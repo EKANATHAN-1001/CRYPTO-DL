{
  "nbformat": 4,
  "nbformat_minor": 0,
  "metadata": {
    "colab": {
      "provenance": []
    },
    "kernelspec": {
      "name": "python3",
      "display_name": "Python 3"
    },
    "language_info": {
      "name": "python"
    }
  },
  "cells": [
    {
      "cell_type": "code",
      "source": [
        "import math\n",
        "from PIL import Image\n",
        "imageFile = '/content/org.png'\n",
        "print(imageFile)\n",
        "im = Image.open(imageFile)\n",
        "rgbHistogram = im.histogram()\n",
        "print('Entropy Value:')\n",
        "for rgb in range(1):\n",
        "     totalPixels = sum(rgbHistogram[rgb * 256 : (rgb + 1) * 256])\n",
        "     ent = 0.0\n",
        "     for col in range(rgb * 256, (rgb + 1) * 256):\n",
        "         freq = float(rgbHistogram[col]) / totalPixels\n",
        "         if freq > 0:\n",
        "             ent = ent + freq * math.log(freq, 2)\n",
        "     ent = -ent\n",
        "     print(ent)"
      ],
      "metadata": {
        "colab": {
          "base_uri": "https://localhost:8080/"
        },
        "id": "6d4A_DvE2KHg",
        "outputId": "d4f7202b-1537-4ddf-f152-bbc8c5db1a71"
      },
      "execution_count": null,
      "outputs": [
        {
          "output_type": "stream",
          "name": "stdout",
          "text": [
            "/content/org.png\n",
            "Entropy Value:\n",
            "5.934386268495819\n"
          ]
        }
      ]
    },
    {
      "cell_type": "code",
      "execution_count": null,
      "metadata": {
        "colab": {
          "base_uri": "https://localhost:8080/"
        },
        "id": "zT3oI1Tly0vQ",
        "outputId": "f2f5d152-57d2-44b1-fbc9-230b1f7e7da0"
      },
      "outputs": [
        {
          "output_type": "stream",
          "name": "stdout",
          "text": [
            "/content/Encrypted_image_Brain.jpg\n",
            "Entropy Value:\n",
            "6.175886878559929\n"
          ]
        }
      ],
      "source": [
        "import math\n",
        "from PIL import Image\n",
        "imageFile = '/content/Encrypted_image_Brain.jpg'\n",
        "print(imageFile)\n",
        "im = Image.open(imageFile)\n",
        "rgbHistogram = im.histogram()\n",
        "print('Entropy Value:')\n",
        "for rgb in range(1):\n",
        "     totalPixels = sum(rgbHistogram[rgb * 256 : (rgb + 1) * 256])\n",
        "     ent = 0.0\n",
        "     for col in range(rgb * 256, (rgb + 1) * 256):\n",
        "         freq = float(rgbHistogram[col]) / totalPixels\n",
        "         if freq > 0:\n",
        "             ent = ent + freq * math.log(freq, 2)\n",
        "     ent = -ent\n",
        "     print(ent)"
      ]
    },
    {
      "cell_type": "code",
      "source": [
        "#psnr - peak signal to noise ratio\n",
        "\n",
        "\n",
        "from math import log10, sqrt\n",
        "import cv2\n",
        "import numpy as np\n",
        "  \n",
        "def PSNR(original, compressed):\n",
        "    mse = np.mean((original - compressed) ** 2)\n",
        "    if(mse == 0):  # MSE is zero means no noise is present in the signal .\n",
        "                  # Therefore PSNR have no importance.\n",
        "        return 100\n",
        "    max_pixel = 255.0\n",
        "    psnr = 20 * log10(max_pixel / sqrt(mse))\n",
        "    return psnr\n",
        "  \n",
        "def main():\n",
        "     original = cv2.imread(\"/content/org.png\")\n",
        "     compressed = cv2.imread(\"/content/Encrypted_image_Brain.jpg\", 1)\n",
        "     value = PSNR(original, compressed)\n",
        "     print(f\"PSNR value is {value} dB\")\n",
        "       \n",
        "if __name__ == \"__main__\":\n",
        "    main()"
      ],
      "metadata": {
        "colab": {
          "base_uri": "https://localhost:8080/"
        },
        "id": "EVzT33iqziig",
        "outputId": "e42366ef-41ad-410c-fd33-842198620555"
      },
      "execution_count": null,
      "outputs": [
        {
          "output_type": "stream",
          "name": "stdout",
          "text": [
            "PSNR value is 29.116636416472 dB\n"
          ]
        }
      ]
    },
    {
      "cell_type": "code",
      "source": [
        "# correlation coeffient\n",
        "\n",
        "\n",
        "try:\n",
        "    import Image\n",
        "except ImportError:\n",
        "    Image = None\n",
        "\n",
        "try:\n",
        "    from PIL import Image\n",
        "except ImportError:\n",
        "    Image = None\n",
        "\n",
        "\n",
        "try:\n",
        "    assert Image is not None\n",
        "except AssertionError:\n",
        "    print(\"This script requires pillow. Please install with: pip install pillow\")\n",
        "    exit()\n",
        "\n",
        "try:\n",
        "    import numpy\n",
        "except ImportError:\n",
        "    print(\"This script requires numpy. Please install with: pip install numpy\")\n",
        "    exit()\n",
        "\n",
        "import math\n",
        "import sys\n",
        "import timeit\n",
        "\n",
        "\n",
        "def normalizeArray(a):\n",
        "    \"\"\"\n",
        "    Normalize the given array to values between 0 and 1.\n",
        "    \"\"\"\n",
        "    w, h = a.shape\n",
        "    minval = a.min()\n",
        "    if minval < 0:  # shift to positive...\n",
        "        a = a + abs(minval)\n",
        "    maxval = a.max()  # THEN, get max value!\n",
        "    new_a = numpy.zeros(a.shape, 'd')\n",
        "    for x in range(0, w):\n",
        "        for y in range(0, h):\n",
        "            new_a[x, y] = float(a[x, y]) / maxval\n",
        "    return new_a\n",
        "\n",
        "\n",
        "def correlation(input, match):\n",
        "    \"\"\"\n",
        "    Calculate the correlation coefficients between the given pixel arrays.\n",
        "    \"\"\"\n",
        "    t = timeit.Timer()\n",
        "    assert match.shape <= input.shape, \"Match Template must be Smaller than the input\"\n",
        "    c = numpy.zeros(input.shape)  # store the coefficients...\n",
        "    mfmean = match.mean()\n",
        "    iw, ih = input.shape  # get input image width and height\n",
        "    mw, mh = match.shape  # get match image width and height\n",
        "\n",
        "    print(\"Computing Correleation Coefficients...\")\n",
        "    start_time = t.timer()\n",
        "\n",
        "    for i in range(0, iw):\n",
        "        for j in range(0, ih):\n",
        "\n",
        "            # find the left, right, top\n",
        "            # and bottom of the sub-image\n",
        "            if i-mw/2 <= 0:\n",
        "                left = 0\n",
        "            elif iw - i < mw:\n",
        "                left = iw - mw\n",
        "            else:\n",
        "                left = i\n",
        "\n",
        "            right = left + mw\n",
        "\n",
        "            if j - mh/2 <= 0:\n",
        "                top = 0\n",
        "            elif ih - j < mh:\n",
        "                top = ih - mh\n",
        "            else:\n",
        "                top = j\n",
        "\n",
        "            bottom = top + mh\n",
        "\n",
        "            # take a slice of the input image as a sub image\n",
        "            sub = input[left:right, top:bottom]\n",
        "            assert sub.shape == match.shape, \"SubImages must be same size!\"\n",
        "            localmean = sub.mean()\n",
        "            temp = (sub - localmean) * (match - mfmean)\n",
        "            s1 = temp.sum()\n",
        "            temp = (sub - localmean) * (sub - localmean)\n",
        "            s2 = temp.sum()\n",
        "            temp = (match - mfmean) * (match - mfmean)\n",
        "            s3 = temp.sum()\n",
        "            denom = s2*s3\n",
        "            if denom == 0:\n",
        "                temp = 0\n",
        "            else:\n",
        "                temp = s1 / math.sqrt(denom)\n",
        "\n",
        "            c[i, j] = temp\n",
        "\n",
        "    end_time = t.timer()\n",
        "    print (\"=> Correlation computed in: \", end_time - start_time)\n",
        "    print ('\\tMax: ', c.max())\n",
        "    print ('\\tMin: ', c.min())\n",
        "    print ('\\tMean: ', c.mean())\n",
        "    return c\n",
        "\n",
        "\n",
        "def main(f1, f2, output_file=\"CORRELATION.jpg\"):\n",
        "    \"\"\" open the image files, and compute their correlation \"\"\"\n",
        "    im1 = Image.open('/content/org.png').convert('L')\n",
        "    im2 = Image.open('/content/Encrypted_image_Brain.jpg').convert('L')\n",
        "\n",
        "    # Convert from Image to Numpy array conversion\n",
        "    f = numpy.asarray(im1)\n",
        "    w = numpy.asarray(im2)\n",
        "    corr = correlation(f, w)\n",
        "    c = Image.fromarray(numpy.uint8(normalizeArray(corr) * 255))\n",
        "\n",
        "    print (\"Saving as: %s\" % output_file)\n",
        "    c.save(output_file)\n",
        "\n",
        "\n",
        "if __name__ == \"__main__\":\n",
        "    if len(sys.argv) == 3:\n",
        "        main(sys.argv[1], sys.argv[2])\n",
        "    else:\n",
        "        print ('USAGE: python correlation <image file> <match file>')"
      ],
      "metadata": {
        "colab": {
          "base_uri": "https://localhost:8080/"
        },
        "id": "2ETrn_np0vE8",
        "outputId": "f70236c6-83bc-4a55-f96f-0a07acc4b52c"
      },
      "execution_count": null,
      "outputs": [
        {
          "output_type": "stream",
          "name": "stdout",
          "text": [
            "Computing Correleation Coefficients...\n",
            "=> Correlation computed in:  35.42716002000009\n",
            "\tMax:  0.3167363234849535\n",
            "\tMin:  0.3167363234849535\n",
            "\tMean:  0.3167363234849535\n",
            "Saving as: CORRELATION.jpg\n"
          ]
        }
      ]
    },
    {
      "cell_type": "code",
      "source": [
        "\n",
        "import numpy as np\n",
        "import matplotlib.pyplot as plt\n",
        "import cv2\n",
        "\n",
        "# read image\n",
        "im = cv2.imread('/content/Encrypted_image_Brain.jpg')\n",
        "# calculate mean value from RGB channels and flatten to 1D array\n",
        "vals = im.mean(axis=2).flatten()\n",
        "# calculate histogram\n",
        "counts, bins = np.histogram(vals, range(257))\n",
        "# plot histogram centered on values 0..255\n",
        "plt.bar(bins[:-1] -1, counts, width=1, edgecolor='none')\n",
        "plt.xlim([-2, 255.5])\n",
        "plt.show()\n"
      ],
      "metadata": {
        "colab": {
          "base_uri": "https://localhost:8080/",
          "height": 430
        },
        "id": "ZoiIdmwE1Iio",
        "outputId": "58ebd7a8-0a68-4fbf-f5e5-9fc93fce9f92"
      },
      "execution_count": null,
      "outputs": [
        {
          "output_type": "display_data",
          "data": {
            "text/plain": [
              "<Figure size 640x480 with 1 Axes>"
            ],
            "image/png": "[encoded data removed]"
          },
          "metadata": {}
        }
      ]
    }
  ]
}